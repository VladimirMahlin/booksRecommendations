{
 "cells": [
  {
   "cell_type": "markdown",
   "id": "b12ab8a5-7745-48c2-94c8-d67ecb94272c",
   "metadata": {},
   "source": [
    "# Load Libraries"
   ]
  },
  {
   "cell_type": "code",
   "execution_count": null,
   "id": "2ac9a96b-70f7-42b5-902b-0b28485c0c3f",
   "metadata": {},
   "outputs": [],
   "source": [
    "import pandas as pd\n",
    "import numpy as np\n",
    "import matplotlib.pyplot as plt\n",
    "import seaborn as sns\n",
    "import requests\n",
    "from joblib import dump, load\n",
    "from sklearn.model_selection import train_test_split\n",
    "from sklearn.metrics.pairwise import cosine_similarity"
   ]
  },
  {
   "cell_type": "markdown",
   "id": "26940d70-7c1e-4941-9c14-bee02943380a",
   "metadata": {},
   "source": [
    "# Load File with Data"
   ]
  },
  {
   "cell_type": "code",
   "execution_count": null,
   "id": "6d1620af-50d8-4e5b-a8e0-ead7bce21a6f",
   "metadata": {},
   "outputs": [],
   "source": [
    "file_path = 'data/Ratings_no0.csv'\n",
    "df = pd.read_csv(file_path)"
   ]
  },
  {
   "cell_type": "markdown",
   "id": "76d7fbbf-a5bf-49b6-a967-c3ca00b4466f",
   "metadata": {},
   "source": [
    "# Organize Columns"
   ]
  },
  {
   "cell_type": "code",
   "execution_count": null,
   "id": "0cee403f-3ea3-4f35-ac81-d789077dc7b8",
   "metadata": {},
   "outputs": [],
   "source": [
    "df['User-ID-Cat'] = df['User-ID'].astype('category').cat.codes\n",
    "df['ISBN-Cat'] = df['ISBN'].astype('category').cat.codes\n",
    "\n",
    "df['Rating'] = pd.to_numeric(df['Rating'], errors='coerce')"
   ]
  },
  {
   "cell_type": "markdown",
   "id": "bfa78d00-e78a-4826-9a72-5e7529992fd2",
   "metadata": {},
   "source": [
    "# Explore Database"
   ]
  },
  {
   "cell_type": "code",
   "execution_count": null,
   "id": "86146e7b-952b-4369-8487-801870a46dca",
   "metadata": {},
   "outputs": [],
   "source": [
    "average_ratings = df.groupby('ISBN')['Rating'].mean()\n",
    "rating_counts = df.groupby('ISBN')['Rating'].count()\n",
    "\n",
    "ratings_info = pd.DataFrame({\n",
    "    'AverageRating': average_ratings,\n",
    "    'RatingCount': rating_counts\n",
    "}).reset_index()\n",
    "\n",
    "filtered_ratings = ratings_info[ratings_info['RatingCount'] > 100]\n",
    "\n",
    "top_rated_books = filtered_ratings.sort_values(by=['AverageRating', 'RatingCount'], ascending=False)\n",
    "\n",
    "print(top_rated_books[['ISBN', 'AverageRating', 'RatingCount']].head(10))"
   ]
  },
  {
   "cell_type": "markdown",
   "id": "369ca16e-9f6d-46d9-b05f-7c880eaefcea",
   "metadata": {},
   "source": [
    "# Filter Data"
   ]
  },
  {
   "cell_type": "code",
   "execution_count": null,
   "id": "7a509c8b-3b4e-4d51-956e-d7a635a81dba",
   "metadata": {},
   "outputs": [],
   "source": [
    "books_filtered = df['ISBN'].value_counts() > 5\n",
    "books_filtered = books_filtered[books_filtered].index.tolist()\n",
    "\n",
    "users_filtered = df['User-ID'].value_counts() > 3\n",
    "users_filtered = users_filtered[users_filtered].index.tolist()\n",
    "\n",
    "df_filtered = df[(df['ISBN'].isin(books_filtered)) & (df['User-ID'].isin(users_filtered))]\n",
    "\n",
    "print(f\"Number of unique users after reducing sparsity: {df_filtered['User-ID'].nunique()}\")\n",
    "print(f\"Number of unique books after reducing sparsity: {df_filtered['ISBN'].nunique()}\")\n",
    "print(df_filtered['ISBN'].head())"
   ]
  },
  {
   "cell_type": "markdown",
   "id": "f3233ac8-3529-4464-816c-16c18fa89a95",
   "metadata": {},
   "source": [
    "# Create and Train Model"
   ]
  },
  {
   "cell_type": "code",
   "execution_count": null,
   "id": "e3bf2652-2a35-4536-98b3-584c142ad7f3",
   "metadata": {},
   "outputs": [],
   "source": [
    "# user_item_matrix = df_filtered.pivot_table(index='User-ID', columns='ISBN', values='Rating').fillna(0)\n",
    "\n",
    "# cosine_sim = cosine_similarity(user_item_matrix)\n",
    "\n",
    "# np.fill_diagonal(cosine_sim, 0)\n",
    "\n",
    "# user_similarity_df = pd.DataFrame(cosine_sim, index=user_item_matrix.index, columns=user_item_matrix.index)\n",
    "\n",
    "# # Save the user similarity DataFrame\n",
    "# dump(user_similarity_df, 'user_similarity_df.joblib')\n",
    "\n",
    "# # Save the user-item matrix\n",
    "# dump(user_item_matrix, 'user_item_matrix.joblib')"
   ]
  },
  {
   "cell_type": "markdown",
   "id": "987c7584-5476-40c2-a792-e0e3dd9e8d9a",
   "metadata": {},
   "source": [
    "# Loading Model"
   ]
  },
  {
   "cell_type": "code",
   "execution_count": null,
   "id": "97c4681a-889a-4cd6-8f65-79053ff667b0",
   "metadata": {},
   "outputs": [],
   "source": [
    "user_item_matrix = load(\"user_item_matrix.joblib\")\n",
    "user_similarity_df = load(\"user_similarity_df.joblib\")"
   ]
  },
  {
   "cell_type": "markdown",
   "id": "0f5f5f35-6aec-4326-88ac-d326f8293b28",
   "metadata": {},
   "source": [
    "# Recommendation Function"
   ]
  },
  {
   "cell_type": "code",
   "execution_count": null,
   "id": "d18cd9cd-5786-499a-a671-849680260c7e",
   "metadata": {},
   "outputs": [],
   "source": [
    "def recalculate_user_similarity(user_item_matrix):\n",
    "    user_item_matrix_filled = user_item_matrix.fillna(0)\n",
    "    similarity_matrix = cosine_similarity(user_item_matrix_filled)\n",
    "    user_similarity_df = pd.DataFrame(similarity_matrix, index=user_item_matrix.index, columns=user_item_matrix.index)\n",
    "    \n",
    "    return user_similarity_df\n",
    "    \n",
    "def add_temporary_user_and_recalculate_similarity(favorite_isbns, user_item_matrix):\n",
    "    valid_isbns = [isbn for isbn in favorite_isbns if isbn in user_item_matrix.columns]\n",
    "    temp_user_id = user_item_matrix.index.max() + 1\n",
    "    temp_user_row = pd.Series(data=10, index=valid_isbns, name=temp_user_id).reindex(user_item_matrix.columns, fill_value=np.nan)\n",
    "    user_item_matrix = pd.concat([user_item_matrix, temp_user_row.to_frame().T], ignore_index=False)\n",
    "    user_similarity_df = recalculate_user_similarity(user_item_matrix)\n",
    "    \n",
    "    return user_similarity_df, user_item_matrix, temp_user_id"
   ]
  },
  {
   "cell_type": "code",
   "execution_count": null,
   "id": "1a42b33a-c29d-40b8-9ad9-40d5234f6ec6",
   "metadata": {},
   "outputs": [],
   "source": [
    "def recommend_books_with_updated_similarity(favorite_isbns, user_item_matrix, original_user_similarity_df, top_n=10):\n",
    "    user_similarity_df, user_item_matrix, temp_user_id = add_temporary_user_and_recalculate_similarity(favorite_isbns, user_item_matrix)\n",
    "    temp_user_similarity_scores = user_similarity_df.loc[temp_user_id]\n",
    "    top_similar_indices = temp_user_similarity_scores.nlargest(top_n + 1).index\n",
    "    similar_users = [user_id for user_id in top_similar_indices if user_id != temp_user_id]\n",
    "    similar_users_ratings = user_item_matrix.loc[similar_users].mean(axis=0).drop(favorite_isbns, errors='ignore')\n",
    "    recommended_books = similar_users_ratings.nlargest(top_n).index.tolist()\n",
    "\n",
    "    if temp_user_id in user_item_matrix.index:\n",
    "        user_item_matrix.drop(index=temp_user_id, inplace=True)\n",
    "        user_similarity_df.drop(index=temp_user_id, inplace=True, errors='ignore')\n",
    "        if temp_user_id in user_similarity_df.columns:\n",
    "            user_similarity_df.drop(columns=temp_user_id, inplace=True, errors='ignore')\n",
    "            \n",
    "    return recommended_books"
   ]
  },
  {
   "cell_type": "markdown",
   "id": "c43dfa1b-30ca-4a8f-b085-c82851823448",
   "metadata": {},
   "source": [
    "# Example of Using the Function"
   ]
  },
  {
   "cell_type": "code",
   "execution_count": null,
   "id": "1a85f10e-5f5f-4591-8f34-606b5dfcc521",
   "metadata": {},
   "outputs": [],
   "source": [
    "favorite_isbns = [\"451523881\", \"1592244343\", \"192815490\"]\n",
    "recommended_books_list = recommend_books_with_updated_similarity(favorite_isbns, user_item_matrix, user_similarity_df)\n",
    "print(recommended_books_list)"
   ]
  },
  {
   "cell_type": "markdown",
   "id": "8dfb913f-f28b-4b2b-9fc1-b279574b996a",
   "metadata": {},
   "source": [
    "# Get Title by ISBN"
   ]
  },
  {
   "cell_type": "code",
   "execution_count": null,
   "id": "0228feb9-566a-4c5e-9187-e173fdb664d7",
   "metadata": {},
   "outputs": [],
   "source": [
    "def get_book_titles(isbn_list):\n",
    "    titles = {}\n",
    "    for isbn in isbn_list:\n",
    "        formatted_isbn = isbn if len(isbn) == 13 else isbn.zfill(10)\n",
    "        url = f\"https://openlibrary.org/api/books?bibkeys=ISBN:{formatted_isbn}&format=json&jscmd=data\"\n",
    "        response = requests.get(url)\n",
    "        if response.status_code == 200:\n",
    "            data = response.json()\n",
    "            key = f\"ISBN:{formatted_isbn}\"\n",
    "            if key in data:\n",
    "                book_info = data[key]\n",
    "                title = book_info.get('title', 'Title not found')\n",
    "                titles[isbn] = title\n",
    "            else:\n",
    "                titles[isbn] = 'Not found'\n",
    "        else:\n",
    "            print(f\"Error fetching ISBN {isbn}: {response.status_code}\")\n",
    "    return titles\n",
    "\n",
    "book_titles = get_book_titles(favorite_isbns)\n",
    "print(\"Favorite Books:\")\n",
    "for isbn, title in book_titles.items():\n",
    "    print(f\"{isbn}: {title}\")\n",
    "print(\"---\")\n",
    "book_titles = get_book_titles(recommended_books_list)\n",
    "print(\"Recommended Books:\")\n",
    "for isbn, title in book_titles.items():\n",
    "    print(f\"{isbn}: {title}\")"
   ]
  }
 ],
 "metadata": {
  "kernelspec": {
   "display_name": "Python 3 (ipykernel)",
   "language": "python",
   "name": "python3"
  },
  "language_info": {
   "codemirror_mode": {
    "name": "ipython",
    "version": 3
   },
   "file_extension": ".py",
   "mimetype": "text/x-python",
   "name": "python",
   "nbconvert_exporter": "python",
   "pygments_lexer": "ipython3",
   "version": "3.12.1"
  }
 },
 "nbformat": 4,
 "nbformat_minor": 5
}
