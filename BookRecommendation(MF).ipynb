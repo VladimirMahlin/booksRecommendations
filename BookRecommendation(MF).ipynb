{
 "cells": [
  {
   "cell_type": "code",
   "outputs": [
    {
     "name": "stdout",
     "output_type": "stream",
     "text": [
      "Epoch 1, Validation RMSE: 0.9288272773071933\n",
      "Epoch 2, Validation RMSE: 0.9221959436462063\n",
      "Epoch 3, Validation RMSE: 0.8993747004217882\n",
      "Epoch 4, Validation RMSE: 0.8707395446951249\n",
      "Epoch 5, Validation RMSE: 0.8597830763505917\n",
      "Epoch 6, Validation RMSE: 0.8732253203949419\n",
      "Epoch 7, Validation RMSE: 0.901339889089948\n",
      "Early stopping triggered\n"
     ]
    },
    {
     "data": {
      "text/plain": "<All keys matched successfully>"
     },
     "execution_count": 1,
     "metadata": {},
     "output_type": "execute_result"
    }
   ],
   "source": [
    "import pandas as pd\n",
    "import numpy as np\n",
    "import torch\n",
    "from sklearn.model_selection import train_test_split\n",
    "from torch.utils.data import DataLoader, Dataset\n",
    "\n",
    "df = pd.read_csv('RatingsNew.csv')\n",
    "\n",
    "user_ids = df['user_id'].unique()\n",
    "user_to_idx = {user_id: idx for idx, user_id in enumerate(user_ids)}\n",
    "isbn_ids = df['book_id'].unique()\n",
    "isbn_to_idx = {isbn_id: idx for idx, isbn_id in enumerate(isbn_ids)}\n",
    "\n",
    "df['user_idx'] = df['user_id'].apply(lambda x: user_to_idx[x])\n",
    "df['isbn_idx'] = df['book_id'].apply(lambda x: isbn_to_idx[x])\n",
    "\n",
    "train_df, test_df = train_test_split(df, test_size=0.2, random_state=42)\n",
    "\n",
    "train_df, val_df = train_test_split(train_df, test_size=0.1, random_state=42)\n",
    "\n",
    "import torch.nn as nn\n",
    "\n",
    "class MatrixFactorization(nn.Module):\n",
    "    def __init__(self, num_users, num_items, embedding_size=100):\n",
    "        super(MatrixFactorization, self).__init__()\n",
    "        self.user_embedding = nn.Embedding(num_users, embedding_size)\n",
    "        self.item_embedding = nn.Embedding(num_items, embedding_size)\n",
    "        self.user_embedding.weight.data.uniform_(0, 0.05)\n",
    "        self.item_embedding.weight.data.uniform_(0, 0.05)\n",
    "\n",
    "    def forward(self, user_indices, item_indices):\n",
    "        user_embedding = self.user_embedding(user_indices)\n",
    "        item_embedding = self.item_embedding(item_indices)\n",
    "        return (user_embedding * item_embedding).sum(1)\n",
    "\n",
    "class BookRatingDataset(Dataset):\n",
    "    def __init__(self, df):\n",
    "        self.users = torch.tensor(df.user_idx.values, dtype=torch.long)\n",
    "        self.items = torch.tensor(df.isbn_idx.values, dtype=torch.long)\n",
    "        self.ratings = torch.tensor(df['rating'].values, dtype=torch.float32)\n",
    "\n",
    "    def __len__(self):\n",
    "        return len(self.users)\n",
    "\n",
    "    def __getitem__(self, idx):\n",
    "        return self.users[idx], self.items[idx], self.ratings[idx]\n",
    "\n",
    "train_dataset = BookRatingDataset(train_df)\n",
    "val_dataset = BookRatingDataset(val_df)\n",
    "test_dataset = BookRatingDataset(test_df)\n",
    "\n",
    "train_loader = DataLoader(train_dataset, batch_size=512, shuffle=True)\n",
    "val_loader = DataLoader(val_dataset, batch_size=512, shuffle=False)\n",
    "test_loader = DataLoader(test_dataset, batch_size=512, shuffle=False)\n",
    "\n",
    "def evaluate_model(model, test_loader):\n",
    "    model.eval()\n",
    "    losses = []\n",
    "    with torch.no_grad():\n",
    "        for users, items, real_ratings in test_loader:\n",
    "            predictions = model(users, items)\n",
    "            loss = criterion(predictions, real_ratings).item()\n",
    "            losses.append(loss)\n",
    "    mean_loss = np.mean(losses)\n",
    "    rmse = np.sqrt(mean_loss)\n",
    "    return rmse\n",
    "\n",
    "num_users, num_items = len(user_ids), len(isbn_ids)\n",
    "model = MatrixFactorization(num_users, num_items)\n",
    "criterion = nn.MSELoss()\n",
    "optimizer = torch.optim.Adam(model.parameters(), lr=0.001)\n",
    "\n",
    "patience = 2\n",
    "best_val_loss = float('inf')\n",
    "epochs_without_improvement = 0\n",
    "\n",
    "num_epochs = 50\n",
    "for epoch in range(num_epochs):\n",
    "    model.train()\n",
    "    for users, items, ratings in train_loader:\n",
    "        optimizer.zero_grad()\n",
    "        predictions = model(users, items)\n",
    "        loss = criterion(predictions, ratings)\n",
    "        loss.backward()\n",
    "        optimizer.step()\n",
    "\n",
    "    val_rmse = evaluate_model(model, val_loader)\n",
    "    print(f'Epoch {epoch+1}, Validation RMSE: {val_rmse}')\n",
    "\n",
    "    if val_rmse < best_val_loss:\n",
    "        best_val_loss = val_rmse\n",
    "        epochs_without_improvement = 0\n",
    "        torch.save(model.state_dict(), 'best_model.pth')\n",
    "    else:\n",
    "        epochs_without_improvement += 1\n",
    "        if epochs_without_improvement >= patience:\n",
    "            print(\"Early stopping triggered\")\n",
    "            break\n",
    "\n",
    "model.load_state_dict(torch.load('best_model.pth'))"
   ],
   "metadata": {
    "collapsed": false,
    "ExecuteTime": {
     "end_time": "2024-02-16T11:23:16.423433Z",
     "start_time": "2024-02-16T11:09:52.357841Z"
    }
   },
   "id": "9848ec05a0e435d4",
   "execution_count": 1
  },
  {
   "cell_type": "code",
   "outputs": [
    {
     "name": "stdout",
     "output_type": "stream",
     "text": [
      "Recommended Books: [626, 178, 6400, 2419, 725]\n"
     ]
    }
   ],
   "source": [
    "import torch\n",
    "import numpy as np\n",
    "\n",
    "def recommend_books(model, book_ids, num_items, n_recommendations=5):\n",
    "    model.eval()\n",
    "    book_ids_tensor = torch.tensor(book_ids, dtype=torch.long)\n",
    "    book_embeddings = model.item_embedding(book_ids_tensor)\n",
    "    pseudo_user_profile = book_embeddings.mean(dim=0)\n",
    "    all_books = torch.tensor(range(num_items), dtype=torch.long)\n",
    "    all_book_embeddings = model.item_embedding(all_books)\n",
    "    similarities = (all_book_embeddings @ pseudo_user_profile) / (all_book_embeddings.norm(dim=1) * pseudo_user_profile.norm() + 1e-8)\n",
    "    _, recommended_indices = torch.topk(similarities, n_recommendations + len(book_ids))\n",
    "    recommended_books = [idx.item() for idx in recommended_indices if idx.item() not in book_ids][:n_recommendations]\n",
    "    return recommended_books\n",
    "\n",
    "book_ids = [13, 48, 196]\n",
    "num_items = len(df.book_id.unique())\n",
    "n_recommendations = 5\n",
    "model.eval()\n",
    "recommended_books = recommend_books(model, book_ids, num_items, n_recommendations)\n",
    "print(\"Recommended Books:\", recommended_books)"
   ],
   "metadata": {
    "collapsed": false,
    "ExecuteTime": {
     "end_time": "2024-02-16T12:43:28.454893Z",
     "start_time": "2024-02-16T12:43:28.423044Z"
    }
   },
   "id": "2bc2366da00c26e2",
   "execution_count": 9
  },
  {
   "cell_type": "code",
   "outputs": [],
   "source": [],
   "metadata": {
    "collapsed": false
   },
   "id": "1878d3ffd47bea6a"
  }
 ],
 "metadata": {
  "kernelspec": {
   "display_name": "Python 3",
   "language": "python",
   "name": "python3"
  },
  "language_info": {
   "codemirror_mode": {
    "name": "ipython",
    "version": 2
   },
   "file_extension": ".py",
   "mimetype": "text/x-python",
   "name": "python",
   "nbconvert_exporter": "python",
   "pygments_lexer": "ipython2",
   "version": "2.7.6"
  }
 },
 "nbformat": 4,
 "nbformat_minor": 5
}
