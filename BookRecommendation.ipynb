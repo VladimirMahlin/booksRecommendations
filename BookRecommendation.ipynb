{
 "cells": [
  {
   "cell_type": "code",
   "execution_count": null,
   "id": "815707681785af7f",
   "metadata": {
    "ExecuteTime": {
     "end_time": "2024-02-06T12:21:46.921434Z",
     "start_time": "2024-02-06T12:21:46.841954Z"
    },
    "collapsed": false,
    "jupyter": {
     "outputs_hidden": false
    }
   },
   "outputs": [],
   "source": [
    "import pandas as pd\n",
    "import numpy as np\n",
    "import re\n",
    "import os\n",
    "from sklearn.feature_extraction.text import TfidfVectorizer\n",
    "from sklearn.metrics.pairwise import cosine_similarity\n",
    "import requests"
   ]
  },
  {
   "cell_type": "code",
   "execution_count": null,
   "id": "02c84cb2-a710-46db-9caa-7275737e608b",
   "metadata": {},
   "outputs": [],
   "source": [
    "df = pd.read_csv('data/books_1.Best_Books_Ever.csv')"
   ]
  },
  {
   "cell_type": "code",
   "execution_count": null,
   "id": "7e966776-3d1b-4ef9-9a24-0426f7f8cef8",
   "metadata": {},
   "outputs": [],
   "source": [
    "def clean_text(text_list):\n",
    "    return ' '.join(text.lower().replace(' ', '_') for text in text_list)\n",
    "\n",
    "df['genres'] = df['genres'].apply(lambda x: clean_text(x.split(', ')))\n",
    "df['setting'] = df['setting'].apply(lambda x: clean_text(x.split(', ')))\n",
    "\n",
    "df['combined_text'] = df['genres'] + ' ' + df['setting']"
   ]
  },
  {
   "cell_type": "code",
   "execution_count": null,
   "id": "28af50fb-81c0-40b4-b3d7-f1fec4432465",
   "metadata": {},
   "outputs": [],
   "source": [
    "tfidf = TfidfVectorizer(stop_words='english')\n",
    "tfidf_matrix = tfidf.fit_transform(df['combined_text'])"
   ]
  },
  {
   "cell_type": "code",
   "execution_count": null,
   "id": "d47b15ed-aca9-4afe-964f-8798f851d99a",
   "metadata": {},
   "outputs": [],
   "source": [
    "# def batch_cosine_similarity(matrix, batch_size=100):\n",
    "#     cosine_sim = np.zeros((matrix.shape[0], matrix.shape[0]))\n",
    "#     for start_row in range(0, matrix.shape[0], batch_size):\n",
    "#         end_row = min(start_row + batch_size, matrix.shape[0])\n",
    "#         batch_cosine_sim = cosine_similarity(matrix[start_row:end_row], matrix)\n",
    "#         cosine_sim[start_row:end_row, :] = batch_cosine_sim\n",
    "#     return cosine_sim\n",
    "# cosine_sim = batch_cosine_similarity(tfidf_matrix, batch_size=100)\n",
    "\n",
    "# def save_cosine_similarity_matrix(cosine_sim, filename):\n",
    "#     try:\n",
    "#         directory = os.path.dirname(filename)\n",
    "#         os.makedirs(directory, exist_ok=True)\n",
    "#         np.save(filename, cosine_sim, allow_pickle=True)\n",
    "#         print(f\"Cosine similarity matrix saved to {filename}\")\n",
    "#     except Exception as e:\n",
    "#         print(f\"Error while saving cosine similarity matrix: {e}\")\n",
    "\n",
    "# save_cosine_similarity_matrix(cosine_sim, '/Users/vladimirmahlin/Documents/Dev/Python/books/cosine_similarity_matrix.npy')"
   ]
  },
  {
   "cell_type": "code",
   "execution_count": null,
   "id": "ca9d5326-ad4e-43e6-8ed9-bd656ce781a0",
   "metadata": {},
   "outputs": [],
   "source": [
    "def search_and_fetch_book_details(title):\n",
    "    title_query = title.replace(\" \", \"+\")\n",
    "    \n",
    "    search_url = f\"https://openlibrary.org/search.json?title={title_query}\"\n",
    "    \n",
    "    search_response = requests.get(search_url)\n",
    "    if search_response.status_code == 200:\n",
    "        search_data = search_response.json()\n",
    "        \n",
    "        if search_data['numFound'] > 0:\n",
    "            book = search_data['docs'][0]\n",
    "            subjects = book.get('subject', [])\n",
    "            places = book.get('place', [])\n",
    "            return subjects, places\n",
    "        else:\n",
    "            print(\"No books found with the given title.\")\n",
    "            return [], []\n",
    "    else:\n",
    "        print(\"Failed to search for books.\")\n",
    "        return [], []"
   ]
  },
  {
   "cell_type": "code",
   "execution_count": null,
   "id": "6fc43ab2-8ad9-4534-a766-6b7515e72b7d",
   "metadata": {},
   "outputs": [],
   "source": [
    "cosine_sim = np.load('cosine_similarity_matrix.npy')"
   ]
  },
  {
   "cell_type": "code",
   "execution_count": null,
   "id": "0ffe3a67-5c07-4053-9920-6c9086518bc7",
   "metadata": {},
   "outputs": [],
   "source": [
    "def recommend_books_from_openlibrary(title, tfidf_vectorizer, cosine_sim, df):\n",
    "    subjects, places = search_and_fetch_book_details(title)\n",
    "    \n",
    "    if not subjects and not places:\n",
    "        print(\"No detailed information found for this title.\")\n",
    "        return\n",
    "    \n",
    "    combined_text = ' '.join(subjects + places).lower().replace(' ', '_')\n",
    "    query_vector = tfidf_vectorizer.transform([combined_text])\n",
    "    cosine_sim_scores = cosine_similarity(query_vector, tfidf_vectorizer.transform(df['combined_text']))\n",
    "    scores = cosine_sim_scores.flatten()\n",
    "    book_indices = scores.argsort()[-10:][::-1]\n",
    "    recommended_books = df.iloc[book_indices]\n",
    "    \n",
    "    print(\"Recommended Books from OpenLibrary:\")\n",
    "    for index, row in recommended_books.iterrows():\n",
    "        print(f\"\\n{row['title']}\\n   Genres: {'; '.join(row['genres'].split(' ')).capitalize()}\\n   Setting: {'; '.join(row['setting'].split(' ')).capitalize()}\")\n",
    "        print(\"-\" * 60)"
   ]
  },
  {
   "cell_type": "code",
   "execution_count": null,
   "id": "c1c1aa41-e260-4ba7-9963-ec31d2dd0e32",
   "metadata": {},
   "outputs": [],
   "source": [
    "def recommend_books_from_db(title, cosine_sim=cosine_sim, df=df):\n",
    "    title = title.lower()\n",
    "    title_indices = df.index[df['title'].str.lower().str.contains(title, na=False)]\n",
    "    \n",
    "    if not title_indices.empty:\n",
    "        title_index = title_indices[0]\n",
    "        \n",
    "        if title_index < cosine_sim.shape[0]:\n",
    "            sim_scores = list(enumerate(cosine_sim[title_index]))\n",
    "            sim_scores = sorted(sim_scores, key=lambda x: x[1], reverse=True)\n",
    "            top_books = sim_scores[1:11]\n",
    "            book_indices = [i[0] for i in top_books]\n",
    "            recommended_books = df[['title', 'genres', 'setting']].iloc[book_indices]\n",
    "\n",
    "            print(\"Recommended Books from Your Database:\")\n",
    "            for idx, row in recommended_books.iterrows():\n",
    "                print(f\"\\n{row['title']}\\n   Genres: {'; '.join(row['genres'].split(', ')).capitalize()}\\n   Setting: {'; '.join(row['setting'].split(', ')).capitalize()}\")\n",
    "                print(\"-\" * 60)\n",
    "\n",
    "        else:\n",
    "            print(f\"Invalid index: {title_index}\")\n",
    "    else:\n",
    "        print(f\"No books found with the title '{title}' in your database.\")"
   ]
  },
  {
   "cell_type": "code",
   "execution_count": null,
   "id": "1524d094-3669-4c26-a9a5-ce22ff6088b1",
   "metadata": {
    "scrolled": true
   },
   "outputs": [],
   "source": [
    "# Example usage from db\n",
    "recommend_books_from_db(\"Crime and Punishment\", cosine_sim)"
   ]
  },
  {
   "cell_type": "code",
   "execution_count": null,
   "id": "5b9babb7-2492-4866-92f5-8059aff1777f",
   "metadata": {
    "scrolled": true
   },
   "outputs": [],
   "source": [
    "# Example usage from OpenLibrary\n",
    "recommend_books_from_openlibrary(\"Crime and Punishment\", tfidf, cosine_sim, df)"
   ]
  }
 ],
 "metadata": {
  "kernelspec": {
   "display_name": "Python 3 (ipykernel)",
   "language": "python",
   "name": "python3"
  },
  "language_info": {
   "codemirror_mode": {
    "name": "ipython",
    "version": 3
   },
   "file_extension": ".py",
   "mimetype": "text/x-python",
   "name": "python",
   "nbconvert_exporter": "python",
   "pygments_lexer": "ipython3",
   "version": "3.12.1"
  }
 },
 "nbformat": 4,
 "nbformat_minor": 5
}
